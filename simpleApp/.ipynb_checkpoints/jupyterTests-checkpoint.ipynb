{
 "cells": [
  {
   "cell_type": "markdown",
   "metadata": {},
   "source": [
    "# table reading for flask"
   ]
  },
  {
   "cell_type": "code",
   "execution_count": 10,
   "metadata": {},
   "outputs": [],
   "source": [
    "import pandas as pd\n",
    "\n",
    "def show_tables():\n",
    "    data = pd.read_excel('dummy_data.xlsx')\n",
    "    data.set_index(['Name'], inplace=True)\n",
    "    data.index.name=None\n",
    "    females = data.loc[data.Gender=='f']\n",
    "    males = data.loc[data.Gender=='m']\n",
    "    #return render_template('view.html',\n",
    "            #tables=[females.to_html(classes='female'), males.to_html(classes='male')],\n",
    "            #titles = ['na', 'Female surfers', 'Male surfers'])\n",
    "    \n",
    "    print(females)\n",
    "    "
   ]
  },
  {
   "cell_type": "code",
   "execution_count": 11,
   "metadata": {},
   "outputs": [
    {
     "name": "stdout",
     "output_type": "stream",
     "text": [
      "        Birth_Month  Origin  Age Gender\n",
      "carly      january      UK    22      f\n",
      "rachel        june   Spain    23      f\n",
      "nicky         june      UK    33      f\n"
     ]
    }
   ],
   "source": [
    "show_tables()"
   ]
  },
  {
   "cell_type": "code",
   "execution_count": 2,
   "metadata": {},
   "outputs": [],
   "source": [
    "from flask import *\n",
    "appFlask = Flask(__name__)"
   ]
  },
  {
   "cell_type": "code",
   "execution_count": 4,
   "metadata": {},
   "outputs": [
    {
     "data": {
      "text/plain": [
       "<Config {'SESSION_COOKIE_SECURE': False, 'LOGGER_HANDLER_POLICY': 'always', 'SESSION_COOKIE_NAME': 'session', 'SESSION_COOKIE_DOMAIN': None, 'SESSION_COOKIE_HTTPONLY': True, 'TEMPLATES_AUTO_RELOAD': None, 'JSONIFY_PRETTYPRINT_REGULAR': True, 'MAX_CONTENT_LENGTH': None, 'TESTING': False, 'PREFERRED_URL_SCHEME': 'http', 'APPLICATION_ROOT': None, 'LOGGER_NAME': '__main__', 'SEND_FILE_MAX_AGE_DEFAULT': datetime.timedelta(0, 43200), 'DEBUG': False, 'JSONIFY_MIMETYPE': 'application/json', 'PRESERVE_CONTEXT_ON_EXCEPTION': None, 'JSON_SORT_KEYS': True, 'SECRET_KEY': None, 'JSON_AS_ASCII': True, 'SESSION_REFRESH_EACH_REQUEST': True, 'TRAP_BAD_REQUEST_ERRORS': False, 'PERMANENT_SESSION_LIFETIME': datetime.timedelta(31), 'SERVER_NAME': None, 'USE_X_SENDFILE': False, 'SESSION_COOKIE_PATH': None, 'PROPAGATE_EXCEPTIONS': None, 'EXPLAIN_TEMPLATE_LOADING': False, 'TRAP_HTTP_EXCEPTIONS': False}>"
      ]
     },
     "execution_count": 4,
     "metadata": {},
     "output_type": "execute_result"
    }
   ],
   "source": [
    "appFlask.config"
   ]
  },
  {
   "cell_type": "code",
   "execution_count": 6,
   "metadata": {},
   "outputs": [
    {
     "data": {
      "text/plain": [
       "<flask.blueprints.Blueprint at 0x6908630>"
      ]
     },
     "execution_count": 6,
     "metadata": {},
     "output_type": "execute_result"
    }
   ],
   "source": [
    "blueprint = Blueprint('tf_api', __name__, url_prefix='/tf_api')\n",
    "blueprint"
   ]
  },
  {
   "cell_type": "code",
   "execution_count": null,
   "metadata": {},
   "outputs": [],
   "source": []
  },
  {
   "cell_type": "code",
   "execution_count": null,
   "metadata": {},
   "outputs": [],
   "source": []
  },
  {
   "cell_type": "code",
   "execution_count": null,
   "metadata": {},
   "outputs": [],
   "source": []
  }
 ],
 "metadata": {
  "kernelspec": {
   "display_name": "Python 3",
   "language": "python",
   "name": "python3"
  },
  "language_info": {
   "codemirror_mode": {
    "name": "ipython",
    "version": 3
   },
   "file_extension": ".py",
   "mimetype": "text/x-python",
   "name": "python",
   "nbconvert_exporter": "python",
   "pygments_lexer": "ipython3",
   "version": "3.5.2"
  }
 },
 "nbformat": 4,
 "nbformat_minor": 2
}
