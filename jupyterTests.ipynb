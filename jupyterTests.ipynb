{
 "cells": [
  {
   "cell_type": "markdown",
   "metadata": {},
   "source": [
    "# table reading for flask"
   ]
  },
  {
   "cell_type": "code",
   "execution_count": 10,
   "metadata": {},
   "outputs": [],
   "source": [
    "import pandas as pd\n",
    "\n",
    "def show_tables():\n",
    "    data = pd.read_excel('dummy_data.xlsx')\n",
    "    data.set_index(['Name'], inplace=True)\n",
    "    data.index.name=None\n",
    "    females = data.loc[data.Gender=='f']\n",
    "    males = data.loc[data.Gender=='m']\n",
    "    #return render_template('view.html',\n",
    "            #tables=[females.to_html(classes='female'), males.to_html(classes='male')],\n",
    "            #titles = ['na', 'Female surfers', 'Male surfers'])\n",
    "    \n",
    "    print(females)\n",
    "    "
   ]
  },
  {
   "cell_type": "code",
   "execution_count": 11,
   "metadata": {},
   "outputs": [
    {
     "name": "stdout",
     "output_type": "stream",
     "text": [
      "        Birth_Month  Origin  Age Gender\n",
      "carly      january      UK    22      f\n",
      "rachel        june   Spain    23      f\n",
      "nicky         june      UK    33      f\n"
     ]
    }
   ],
   "source": [
    "show_tables()"
   ]
  },
  {
   "cell_type": "code",
   "execution_count": null,
   "metadata": {},
   "outputs": [],
   "source": []
  }
 ],
 "metadata": {
  "kernelspec": {
   "display_name": "Python 3",
   "language": "python",
   "name": "python3"
  },
  "language_info": {
   "codemirror_mode": {
    "name": "ipython",
    "version": 3
   },
   "file_extension": ".py",
   "mimetype": "text/x-python",
   "name": "python",
   "nbconvert_exporter": "python",
   "pygments_lexer": "ipython3",
   "version": "3.5.2"
  }
 },
 "nbformat": 4,
 "nbformat_minor": 2
}
